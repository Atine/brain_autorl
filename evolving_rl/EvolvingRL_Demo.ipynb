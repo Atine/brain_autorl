{
  "cells": [
    {
      "cell_type": "code",
      "execution_count": null,
      "metadata": {
        "id": "pUgXMYwMkJqq"
      },
      "outputs": [],
      "source": [
        "#@title Imports\n",
        "# Copyright 2022 Google LLC\n",
        "#\n",
        "# Licensed under the Apache License, Version 2.0 (the \"License\");\n",
        "# you may not use this file except in compliance with the License.\n",
        "# You may obtain a copy of the License at\n",
        "#\n",
        "#      http://www.apache.org/licenses/LICENSE-2.0\n",
        "#\n",
        "# Unless required by applicable law or agreed to in writing, software\n",
        "# distributed under the License is distributed on an \"AS IS\" BASIS,\n",
        "# WITHOUT WARRANTIES OR CONDITIONS OF ANY KIND, either express or implied.\n",
        "# See the License for the specific language governing permissions and\n",
        "# limitations under the License.\n",
        "\n",
        "\"\"\"Example to run loss program search.\"\"\"\n",
        "import random\n",
        "import time\n",
        "\n",
        "from absl import app\n",
        "from absl import flags\n",
        "\n",
        "import numpy as np\n",
        "import pyglove as pg\n",
        "import tensorflow as tf\n",
        "\n",
        "import matplotlib.pyplot as plt\n",
        "\n",
        "from brain_autorl.evolving_rl import evolution_v2\n",
        "from brain_autorl.evolving_rl import custom_dqn\n",
        "from brain_autorl.evolving_rl.env_utils import run_train_loop\n",
        "import brain_autorl.evolving_rl.graph_configs as gconfig\n",
        "from brain_autorl.evolving_rl.program import build_program\n",
        "from brain_autorl.evolving_rl.program import InvalidProgramError"
      ]
    },
    {
      "cell_type": "code",
      "execution_count": 2,
      "metadata": {
        "executionInfo": {
          "elapsed": 48,
          "status": "ok",
          "timestamp": 1655653122893,
          "user": {
            "displayName": "Yingjie Miao",
            "userId": "06980872217113666322"
          },
          "user_tz": 420
        },
        "id": "v9ia_dOGnar0"
      },
      "outputs": [],
      "source": [
        "#@title Configs\n",
        "SEED = 1\n",
        "MAX_TRIALS = 100\n",
        "\n",
        "POPULATION_SIZE = 20\n",
        "TOURNAMENT_SIZE = 2\n",
        "MUTATION_PROB = 0.95\n",
        "\n",
        "ENV_ID = 'CartPole-v0' # Only 1 env for quick demo\n",
        "OBJECTIVE_METRIC = 'train/normalized_avg_return_last50'\n",
        "\n",
        "random.seed(SEED)\n",
        "np.random.seed(SEED)\n",
        "tf.random.set_seed(SEED)\n"
      ]
    },
    {
      "cell_type": "code",
      "execution_count": 3,
      "metadata": {
        "executionInfo": {
          "elapsed": 4365,
          "status": "ok",
          "timestamp": 1655653127305,
          "user": {
            "displayName": "Yingjie Miao",
            "userId": "06980872217113666322"
          },
          "user_tz": 420
        },
        "id": "h8PXp9DRoC-s"
      },
      "outputs": [],
      "source": [
        "#@title Define the loss function search space\n",
        "(operators, input_nodes, existing_ops, search_space, num_freeze_ops,\n",
        "  program_length) = gconfig.pre_graph_7_existingdqn_nofreeze()\n"
      ]
    },
    {
      "cell_type": "code",
      "execution_count": 4,
      "metadata": {
        "executionInfo": {
          "elapsed": 2224,
          "status": "ok",
          "timestamp": 1655653129596,
          "user": {
            "displayName": "Yingjie Miao",
            "userId": "06980872217113666322"
          },
          "user_tz": 420
        },
        "id": "1osgrAhlkpui"
      },
      "outputs": [],
      "source": [
        "#@title Set up tuning algorithm\n",
        "def get_tuning_algorithm(input_nodes, existing_ops, search_space,\n",
        "                         operators, program_length, num_freeze_ops,\n",
        "                         adjust_loss_weight):\n",
        "  \"\"\"Creates the tuning algorithm for pyglove.\"\"\"\n",
        "  graph_spec = evolution_v2.GraphSpec(\n",
        "      template=pg.template(search_space),\n",
        "      input_nodes=input_nodes,\n",
        "      existing_ops=existing_ops,\n",
        "      program_length=program_length,\n",
        "      operators=operators,\n",
        "      adjust_loss_weight=adjust_loss_weight,\n",
        "  )\n",
        "  graph_hasher = evolution_v2.GraphHasher(input_nodes)\n",
        "  graph_generator = evolution_v2.GraphGenerator(\n",
        "      graph_spec, graph_hasher, SEED)\n",
        "  graph_mutator = evolution_v2.GraphMutator(\n",
        "      graph_spec=graph_spec,\n",
        "      graph_hasher=graph_hasher,\n",
        "      mutation_probability=MUTATION_PROB,\n",
        "      num_freeze_ops=num_freeze_ops)\n",
        "\n",
        "  # Regularized Evolution.\n",
        "  return evolution_v2.build_regularized_evolution(\n",
        "      population_size=POPULATION_SIZE,\n",
        "      tournament_size=TOURNAMENT_SIZE,\n",
        "      seed=SEED,\n",
        "      graph_generator=graph_generator,\n",
        "      graph_mutator=graph_mutator)\n",
        "\n",
        "generator = get_tuning_algorithm(\n",
        "    input_nodes,\n",
        "    existing_ops,\n",
        "    search_space,\n",
        "    operators,\n",
        "    program_length,\n",
        "    num_freeze_ops,\n",
        "    adjust_loss_weight=False,\n",
        ")\n",
        "\n"
      ]
    },
    {
      "cell_type": "code",
      "execution_count": null,
      "metadata": {
        "id": "rKe7vzTHCyTO"
      },
      "outputs": [],
      "source": [
        "#@title Run evolution\n",
        "trial_rewards = []\n",
        "for program_spec, feedback in pg.sample(\n",
        "    search_space, generator, MAX_TRIALS):  # pytype: disable=wrong-arg-types  # gen-stub-imports\n",
        "\n",
        "  agent_cls, network_func = custom_dqn.DQN, custom_dqn.make_networks\n",
        "  loss_program, valid_program = build_program(\n",
        "      input_nodes, program_spec, operators, check_path_diff=0)\n",
        "\n",
        "  assert valid_program, 'Invalid program!'\n",
        "\n",
        "  # If duplicate, then don't run training and just return reward.\n",
        "  if program_spec.duplicate:\n",
        "    reward = program_spec.reward\n",
        "  else:\n",
        "    train_results = run_train_loop(\n",
        "        ENV_ID,\n",
        "        loss_program,\n",
        "        agent_cls,\n",
        "        network_func,\n",
        "        learning_rate=1e-4,\n",
        "        batch_size=32,\n",
        "        epsilon_schedule=10000,\n",
        "        use_priority=False,\n",
        "        limit_steps=False,\n",
        "        log_to_xm=False,\n",
        "        wrapper_version='v3',\n",
        "        target_update_period=100,\n",
        "        force_reproducibility=True)\n",
        "    reward = train_results[OBJECTIVE_METRIC]\n",
        "\n",
        "  trial_rewards.append(reward)\n",
        "\n",
        "  feedback.add_measurement(\n",
        "      reward=float(reward),\n",
        "      metrics={'reward': reward},\n",
        "      step=0,\n",
        "  )\n",
        "  feedback.done()"
      ]
    },
    {
      "cell_type": "code",
      "execution_count": 7,
      "metadata": {
        "colab": {
          "height": 279
        },
        "executionInfo": {
          "elapsed": 172,
          "status": "ok",
          "timestamp": 1655659843964,
          "user": {
            "displayName": "Yingjie Miao",
            "userId": "06980872217113666322"
          },
          "user_tz": 420
        },
        "id": "D0nHpqocBBgX",
        "outputId": "ca695d02-0b3b-4bb2-bd6b-040cbf0dd00c"
      },
      "outputs": [
        {
          "data": {
            "image/png": "[encoded data removed]",
            "text/plain": [
              "\u003cFigure size 600x400 with 1 Axes\u003e"
            ]
          },
          "metadata": {},
          "output_type": "display_data"
        }
      ],
      "source": [
        "plt.plot(range(1, len(trial_rewards) + 1), trial_rewards)\n",
        "plt.xlabel('Trial');\n",
        "plt.ylabel('Reward');"
      ]
    }
  ],
  "metadata": {
    "colab": {
      "collapsed_sections": [],
      "last_runtime": {
        "build_target": "",
        "kind": "local"
      },
      "name": "EvolvingRL-Demo.ipynb",
      "provenance": [
        {
          "file_id": "1Le8z9MdfTWv-ULoXlQdeMDsBdEEReWTk",
          "timestamp": 1655659951601
        }
      ]
    },
    "kernelspec": {
      "display_name": "Python 3",
      "name": "python3"
    },
    "language_info": {
      "name": "python"
    }
  },
  "nbformat": 4,
  "nbformat_minor": 0
}
